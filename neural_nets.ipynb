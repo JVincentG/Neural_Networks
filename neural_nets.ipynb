import tensorflow as tf
from tensorflow import keras

model = keras.Sequential([keras.layers.Dense(units=1,input_shape=[1])])
model.compile(optimizer='sgd',loss='mean_squared_error')

num_of_flats = (1,2,3,4,5,6,7)
price_of_house = (1000,2000,3000,4000,5000,6000,7000)

model.fit(num_of_flats,price_of_house,epochs = 1000)

print(model.predict([10]))